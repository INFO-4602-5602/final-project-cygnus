{
 "cells": [
  {
   "cell_type": "code",
   "execution_count": 1,
   "metadata": {
    "collapsed": true
   },
   "outputs": [],
   "source": [
    "import pandas as pd\n",
    "# from string import digits\n",
    "from nltk.corpus import stopwords"
   ]
  },
  {
   "cell_type": "code",
   "execution_count": 2,
   "metadata": {
    "collapsed": true
   },
   "outputs": [],
   "source": [
    "df = pd.read_csv('../top_user_reviews.csv')"
   ]
  },
  {
   "cell_type": "code",
   "execution_count": 3,
   "metadata": {
    "collapsed": true
   },
   "outputs": [],
   "source": [
    "df.drop('Unnamed: 0', axis=1, inplace=True)"
   ]
  },
  {
   "cell_type": "code",
   "execution_count": 4,
   "metadata": {
    "collapsed": false
   },
   "outputs": [
    {
     "data": {
      "text/plain": [
       "0    Been here twice to catch a sports game on thei...\n",
       "1    Here tonight to try dinner. What caught my eye...\n",
       "2    The week of May 14-20, 2012 is National Beer W...\n",
       "3    On the look out for a new place to try for Sun...\n",
       "4    Despite the fact that Vegas has a stupid numbe...\n",
       "Name: text, dtype: object"
      ]
     },
     "execution_count": 4,
     "metadata": {},
     "output_type": "execute_result"
    }
   ],
   "source": [
    "df['text'].head()"
   ]
  },
  {
   "cell_type": "code",
   "execution_count": 5,
   "metadata": {
    "collapsed": false
   },
   "outputs": [
    {
     "data": {
      "text/plain": [
       "0        Been here twice to catch a sports game on thei...\n",
       "1        Here tonight to try dinner. What caught my eye...\n",
       "2        The week of May 14-20, 2012 is National Beer W...\n",
       "3        On the look out for a new place to try for Sun...\n",
       "4        Despite the fact that Vegas has a stupid numbe...\n",
       "5        For the past two Sundays, I've come here to ha...\n",
       "6        Maria was super nice and inviting. 5 stars for...\n",
       "7        I've attended a couple of bikram classes here ...\n",
       "8        This just in! This dirty dirty chain 'za (but ...\n",
       "9        Gas is soooo much cheaper in South Carolina. 2...\n",
       "10       Sutra no longer offers 50% off on Tuesday nigh...\n",
       "11       Barcelona is pretty swanky, there's no doubt a...\n",
       "12       I have to give Mille Avenue a positive up for ...\n",
       "13       I like this Subway location.  It is always cle...\n",
       "14       I have been thru my fair share of lash artists...\n",
       "15       Friendly, efficient, and full of useful recomm...\n",
       "16       Came here this morning  because I had a meetin...\n",
       "17       Gibb's is in the Severance Plaza and is a real...\n",
       "18       If I had to sum up Focus in one word, I'd say ...\n",
       "19       A friend and I went to dinner here, and while ...\n",
       "20       3.5 stars.  \\n\\nBoth my wife and I wanted a sm...\n",
       "21       My new favorite bar \\/hangout spot in the city...\n",
       "22       I'm a sucker for tapas (or bocadillos in this ...\n",
       "23       These are two perplexed stars because several ...\n",
       "24       Perhaps 5 years ago I would have liked this pl...\n",
       "25       This is still a Sobey's, so for me it'll never...\n",
       "26       Ok\\nI've only ever had the gelato here, althou...\n",
       "27       This is a great little \"shack\" in a gas statio...\n",
       "28       I thought I'd never get to 500 reviews! Now th...\n",
       "29       Just realized that I wrote a review for the Ka...\n",
       "                               ...                        \n",
       "73707    Big thanks to one of my fave local Newmarket E...\n",
       "73708    Called in my order and had a coupon in College...\n",
       "73709    I still remember when this mall was lined with...\n",
       "73710    I am shocked that no one has reviewed Tonto Ba...\n",
       "73711    I have come here several times since it is so ...\n",
       "73712    We went here for lunch today and thoroughly en...\n",
       "73713    I live in Desert Hills and I always forget abo...\n",
       "73714    I have used Eliot Management group for my cred...\n",
       "73715    Hopped in for lunch just as they opened (11:00...\n",
       "73716    I love me some Chipotle, and this place is pre...\n",
       "73717    I dined at Bosk for breakfast and dinner durin...\n",
       "73718    EVERYTIME I'm home in Cleveland I have to get ...\n",
       "73719    Tanya was awesome!  This chic eyewear boutique...\n",
       "73720    I didn't know what Jason's Deli was all about ...\n",
       "73721    I was glad to see that they had opened up a lo...\n",
       "73722    It was actually kinda exciting to see this pla...\n",
       "73723    Called to confirm and Charcuterie Fairmount ar...\n",
       "73724    Host & Server Carlos IS The Man! He is natural...\n",
       "73725    We decided to try something different as we ha...\n",
       "73726    I have used this trail twice as the gateway fo...\n",
       "73727    This place has it all...\\n\\n1) Drinks - A wond...\n",
       "73728    Just went to look at these love love love em a...\n",
       "73729    This place is good if you want a quick and che...\n",
       "73730    Stack'd has got some stacked burger competitio...\n",
       "73731    Looking for that delicious Pizza Rock pizza bu...\n",
       "73732    Since I still haven't properly tried Pizza Roc...\n",
       "73733    Great addition to spring mountain.  Some of th...\n",
       "73734    I grew up with chè and love the mixture of gra...\n",
       "73735    Oh yeah! \\n\\nWe came after some Hot N Juicy ne...\n",
       "73736    I've never been head over heels with Vietnames...\n",
       "Name: text, dtype: object"
      ]
     },
     "execution_count": 5,
     "metadata": {},
     "output_type": "execute_result"
    }
   ],
   "source": [
    "df['text']"
   ]
  },
  {
   "cell_type": "code",
   "execution_count": 6,
   "metadata": {
    "collapsed": false
   },
   "outputs": [
    {
     "name": "stderr",
     "output_type": "stream",
     "text": [
      "/usr/local/lib/python2.7/dist-packages/ipykernel/__main__.py:4: UnicodeWarning: Unicode equal comparison failed to convert both arguments to Unicode - interpreting them as being unequal\n"
     ]
    }
   ],
   "source": [
    "df['text'] = df['text'].apply(lambda x : x.lower())\n",
    "# df['text'] = df['text'].apply(lambda x : x.translate(None, digits))\n",
    "stop = stopwords.words('english')\n",
    "df['text'] = df['text'].apply(lambda x : ' '.join([item for item in x.split() if item not in stop]))"
   ]
  },
  {
   "cell_type": "code",
   "execution_count": 7,
   "metadata": {
    "collapsed": false
   },
   "outputs": [
    {
     "data": {
      "text/plain": [
       "0    twice catch sports game multiple tvs. pub food...\n",
       "1    tonight try dinner. caught eye nachos bratzel ...\n",
       "2    week may 14-20, 2012 national beer week. brews...\n",
       "3    look new place try sunday football specials, d...\n",
       "4    despite fact vegas stupid number local's taver...\n",
       "Name: text, dtype: object"
      ]
     },
     "execution_count": 7,
     "metadata": {},
     "output_type": "execute_result"
    }
   ],
   "source": [
    "df['text'].head()"
   ]
  },
  {
   "cell_type": "code",
   "execution_count": 8,
   "metadata": {
    "collapsed": true
   },
   "outputs": [],
   "source": [
    "import re\n",
    "\n",
    "df['text'] = df['text'].apply(lambda x : re.sub(\"[^a-zA-Z]\", \" \", x))"
   ]
  },
  {
   "cell_type": "code",
   "execution_count": 9,
   "metadata": {
    "collapsed": false
   },
   "outputs": [
    {
     "data": {
      "text/plain": [
       "0    twice catch sports game multiple tvs  pub food...\n",
       "1    tonight try dinner  caught eye nachos bratzel ...\n",
       "2    week may             national beer week  brews...\n",
       "3    look new place try sunday football specials  d...\n",
       "4    despite fact vegas stupid number local s taver...\n",
       "Name: text, dtype: object"
      ]
     },
     "execution_count": 9,
     "metadata": {},
     "output_type": "execute_result"
    }
   ],
   "source": [
    "df['text'].head()"
   ]
  },
  {
   "cell_type": "code",
   "execution_count": 10,
   "metadata": {
    "collapsed": true
   },
   "outputs": [],
   "source": [
    "df['text'] = df['text'].apply(lambda x : re.sub('\\s+', ' ', x)) "
   ]
  },
  {
   "cell_type": "code",
   "execution_count": 11,
   "metadata": {
    "collapsed": false
   },
   "outputs": [
    {
     "data": {
      "text/plain": [
       "0    twice catch sports game multiple tvs pub food ...\n",
       "1    tonight try dinner caught eye nachos bratzel f...\n",
       "2    week may national beer week brews off pint bee...\n",
       "3    look new place try sunday football specials de...\n",
       "4    despite fact vegas stupid number local s taver...\n",
       "Name: text, dtype: object"
      ]
     },
     "execution_count": 11,
     "metadata": {},
     "output_type": "execute_result"
    }
   ],
   "source": [
    "df['text'].head()"
   ]
  },
  {
   "cell_type": "code",
   "execution_count": 13,
   "metadata": {
    "collapsed": true
   },
   "outputs": [],
   "source": [
    "df['text'] = df['text'].apply(lambda x : ' '.join( [w for w in x.split() if len(w)>1] ))"
   ]
  },
  {
   "cell_type": "code",
   "execution_count": 14,
   "metadata": {
    "collapsed": true
   },
   "outputs": [],
   "source": [
    "df['text'].to_csv('reviews.txt',index=False, header=False)"
   ]
  },
  {
   "cell_type": "code",
   "execution_count": null,
   "metadata": {
    "collapsed": true
   },
   "outputs": [],
   "source": []
  }
 ],
 "metadata": {
  "kernelspec": {
   "display_name": "Python 2",
   "language": "python",
   "name": "python2"
  },
  "language_info": {
   "codemirror_mode": {
    "name": "ipython",
    "version": 2
   },
   "file_extension": ".py",
   "mimetype": "text/x-python",
   "name": "python",
   "nbconvert_exporter": "python",
   "pygments_lexer": "ipython2",
   "version": "2.7.13"
  }
 },
 "nbformat": 4,
 "nbformat_minor": 2
}
