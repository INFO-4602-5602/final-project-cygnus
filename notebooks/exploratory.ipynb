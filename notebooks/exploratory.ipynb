{
 "cells": [
  {
   "cell_type": "code",
   "execution_count": 2,
   "metadata": {
    "collapsed": true
   },
   "outputs": [],
   "source": [
    "import pandas as pd\n",
    "import json\n",
    "import ast"
   ]
  },
  {
   "cell_type": "code",
   "execution_count": 3,
   "metadata": {
    "collapsed": false
   },
   "outputs": [],
   "source": [
    "reviews = []\n",
    "\n",
    "with open('../yelp_academic_dataset_review.json', 'rb') as f:\n",
    "    for line in f:\n",
    "        reviews.append(ast.literal_eval(line.strip()))"
   ]
  },
  {
   "cell_type": "code",
   "execution_count": 4,
   "metadata": {
    "collapsed": false
   },
   "outputs": [],
   "source": [
    "df = pd.DataFrame(reviews)"
   ]
  },
  {
   "cell_type": "code",
   "execution_count": 5,
   "metadata": {
    "collapsed": false
   },
   "outputs": [
    {
     "data": {
      "text/html": [
       "<div>\n",
       "<table border=\"1\" class=\"dataframe\">\n",
       "  <thead>\n",
       "    <tr style=\"text-align: right;\">\n",
       "      <th></th>\n",
       "      <th>business_id</th>\n",
       "      <th>cool</th>\n",
       "      <th>date</th>\n",
       "      <th>funny</th>\n",
       "      <th>review_id</th>\n",
       "      <th>stars</th>\n",
       "      <th>text</th>\n",
       "      <th>type</th>\n",
       "      <th>useful</th>\n",
       "      <th>user_id</th>\n",
       "    </tr>\n",
       "  </thead>\n",
       "  <tbody>\n",
       "    <tr>\n",
       "      <th>0</th>\n",
       "      <td>2aFiy99vNLklCx3T_tGS9A</td>\n",
       "      <td>0</td>\n",
       "      <td>2011-10-10</td>\n",
       "      <td>0</td>\n",
       "      <td>NxL8SIC5yqOdnlXCg18IBg</td>\n",
       "      <td>5</td>\n",
       "      <td>If you enjoy service by someone who is as comp...</td>\n",
       "      <td>review</td>\n",
       "      <td>0</td>\n",
       "      <td>KpkOkG6RIf4Ra25Lhhxf1A</td>\n",
       "    </tr>\n",
       "    <tr>\n",
       "      <th>1</th>\n",
       "      <td>2aFiy99vNLklCx3T_tGS9A</td>\n",
       "      <td>0</td>\n",
       "      <td>2010-12-29</td>\n",
       "      <td>0</td>\n",
       "      <td>pXbbIgOXvLuTi_SPs1hQEQ</td>\n",
       "      <td>5</td>\n",
       "      <td>After being on the phone with Verizon Wireless...</td>\n",
       "      <td>review</td>\n",
       "      <td>1</td>\n",
       "      <td>bQ7fQq1otn9hKX-gXRsrgA</td>\n",
       "    </tr>\n",
       "    <tr>\n",
       "      <th>2</th>\n",
       "      <td>2aFiy99vNLklCx3T_tGS9A</td>\n",
       "      <td>0</td>\n",
       "      <td>2011-04-29</td>\n",
       "      <td>0</td>\n",
       "      <td>wslW2Lu4NYylb1jEapAGsw</td>\n",
       "      <td>5</td>\n",
       "      <td>Great service! Corey is very service oriented....</td>\n",
       "      <td>review</td>\n",
       "      <td>0</td>\n",
       "      <td>r1NUhdNmL6yU9Bn-Yx6FTw</td>\n",
       "    </tr>\n",
       "    <tr>\n",
       "      <th>3</th>\n",
       "      <td>2LfIuF3_sX6uwe-IR-P0jQ</td>\n",
       "      <td>1</td>\n",
       "      <td>2014-07-14</td>\n",
       "      <td>0</td>\n",
       "      <td>GP6YEearUWrzPtQYSF1vVg</td>\n",
       "      <td>5</td>\n",
       "      <td>Highly recommended. Went in yesterday looking ...</td>\n",
       "      <td>review</td>\n",
       "      <td>0</td>\n",
       "      <td>aW3ix1KNZAvoM8q-WghA3Q</td>\n",
       "    </tr>\n",
       "    <tr>\n",
       "      <th>4</th>\n",
       "      <td>2LfIuF3_sX6uwe-IR-P0jQ</td>\n",
       "      <td>0</td>\n",
       "      <td>2014-01-15</td>\n",
       "      <td>0</td>\n",
       "      <td>25RlYGq2s5qShi-pn3ufVA</td>\n",
       "      <td>4</td>\n",
       "      <td>I walked in here looking for a specific piece ...</td>\n",
       "      <td>review</td>\n",
       "      <td>0</td>\n",
       "      <td>YOo-Cip8HqvKp_p9nEGphw</td>\n",
       "    </tr>\n",
       "  </tbody>\n",
       "</table>\n",
       "</div>"
      ],
      "text/plain": [
       "              business_id  cool        date  funny               review_id  \\\n",
       "0  2aFiy99vNLklCx3T_tGS9A     0  2011-10-10      0  NxL8SIC5yqOdnlXCg18IBg   \n",
       "1  2aFiy99vNLklCx3T_tGS9A     0  2010-12-29      0  pXbbIgOXvLuTi_SPs1hQEQ   \n",
       "2  2aFiy99vNLklCx3T_tGS9A     0  2011-04-29      0  wslW2Lu4NYylb1jEapAGsw   \n",
       "3  2LfIuF3_sX6uwe-IR-P0jQ     1  2014-07-14      0  GP6YEearUWrzPtQYSF1vVg   \n",
       "4  2LfIuF3_sX6uwe-IR-P0jQ     0  2014-01-15      0  25RlYGq2s5qShi-pn3ufVA   \n",
       "\n",
       "   stars                                               text    type  useful  \\\n",
       "0      5  If you enjoy service by someone who is as comp...  review       0   \n",
       "1      5  After being on the phone with Verizon Wireless...  review       1   \n",
       "2      5  Great service! Corey is very service oriented....  review       0   \n",
       "3      5  Highly recommended. Went in yesterday looking ...  review       0   \n",
       "4      4  I walked in here looking for a specific piece ...  review       0   \n",
       "\n",
       "                  user_id  \n",
       "0  KpkOkG6RIf4Ra25Lhhxf1A  \n",
       "1  bQ7fQq1otn9hKX-gXRsrgA  \n",
       "2  r1NUhdNmL6yU9Bn-Yx6FTw  \n",
       "3  aW3ix1KNZAvoM8q-WghA3Q  \n",
       "4  YOo-Cip8HqvKp_p9nEGphw  "
      ]
     },
     "execution_count": 5,
     "metadata": {},
     "output_type": "execute_result"
    }
   ],
   "source": [
    "df.head()"
   ]
  },
  {
   "cell_type": "code",
   "execution_count": 6,
   "metadata": {
    "collapsed": false
   },
   "outputs": [],
   "source": [
    "df5 = df.loc[df['stars'] == 5]"
   ]
  },
  {
   "cell_type": "code",
   "execution_count": 7,
   "metadata": {
    "collapsed": false
   },
   "outputs": [
    {
     "data": {
      "text/plain": [
       "1704200"
      ]
     },
     "execution_count": 7,
     "metadata": {},
     "output_type": "execute_result"
    }
   ],
   "source": [
    "len(df5)"
   ]
  },
  {
   "cell_type": "code",
   "execution_count": 8,
   "metadata": {
    "collapsed": false
   },
   "outputs": [],
   "source": [
    "counts = pd.DataFrame(df5['text'].groupby(df5['user_id']).count()).reset_index()"
   ]
  },
  {
   "cell_type": "code",
   "execution_count": 9,
   "metadata": {
    "collapsed": false
   },
   "outputs": [],
   "source": [
    "counts.sort_values(by='text', inplace=True, ascending=False)"
   ]
  },
  {
   "cell_type": "code",
   "execution_count": 13,
   "metadata": {
    "collapsed": false
   },
   "outputs": [],
   "source": [
    "more_than_100 = counts.loc[counts['text'] >= 100]"
   ]
  },
  {
   "cell_type": "code",
   "execution_count": 14,
   "metadata": {
    "collapsed": false
   },
   "outputs": [
    {
     "data": {
      "text/plain": [
       "170"
      ]
     },
     "execution_count": 14,
     "metadata": {},
     "output_type": "execute_result"
    }
   ],
   "source": [
    "len(more_than_100)"
   ]
  },
  {
   "cell_type": "code",
   "execution_count": 18,
   "metadata": {
    "collapsed": false
   },
   "outputs": [],
   "source": [
    "top_users = list(more_than_100['user_id'])"
   ]
  },
  {
   "cell_type": "code",
   "execution_count": 19,
   "metadata": {
    "collapsed": true
   },
   "outputs": [],
   "source": [
    "top_user_reviews = df[df['user_id'].isin(top_users)]"
   ]
  },
  {
   "cell_type": "code",
   "execution_count": 21,
   "metadata": {
    "collapsed": false
   },
   "outputs": [],
   "source": [
    "top_user_reviews.to_csv('../top_user_reviews.csv')"
   ]
  },
  {
   "cell_type": "code",
   "execution_count": 22,
   "metadata": {
    "collapsed": false
   },
   "outputs": [
    {
     "data": {
      "text/plain": [
       "73737"
      ]
     },
     "execution_count": 22,
     "metadata": {},
     "output_type": "execute_result"
    }
   ],
   "source": [
    "len(top_user_reviews)"
   ]
  },
  {
   "cell_type": "code",
   "execution_count": null,
   "metadata": {
    "collapsed": true
   },
   "outputs": [],
   "source": []
  }
 ],
 "metadata": {
  "kernelspec": {
   "display_name": "Python 2",
   "language": "python",
   "name": "python2"
  },
  "language_info": {
   "codemirror_mode": {
    "name": "ipython",
    "version": 2
   },
   "file_extension": ".py",
   "mimetype": "text/x-python",
   "name": "python",
   "nbconvert_exporter": "python",
   "pygments_lexer": "ipython2",
   "version": "2.7.13"
  }
 },
 "nbformat": 4,
 "nbformat_minor": 2
}
