{
 "cells": [
  {
   "cell_type": "code",
   "execution_count": 1,
   "metadata": {
    "collapsed": false
   },
   "outputs": [],
   "source": [
    "import pandas as pd\n",
    "import ast\n",
    "import json"
   ]
  },
  {
   "cell_type": "code",
   "execution_count": 2,
   "metadata": {
    "collapsed": true
   },
   "outputs": [],
   "source": [
    "df_reviews = pd.read_csv('../top_user_reviews.csv')\n",
    "df_reviews.drop('Unnamed: 0', axis=1, inplace=True)"
   ]
  },
  {
   "cell_type": "code",
   "execution_count": 3,
   "metadata": {
    "collapsed": false
   },
   "outputs": [
    {
     "data": {
      "text/html": [
       "<div>\n",
       "<table border=\"1\" class=\"dataframe\">\n",
       "  <thead>\n",
       "    <tr style=\"text-align: right;\">\n",
       "      <th></th>\n",
       "      <th>business_id</th>\n",
       "      <th>cool</th>\n",
       "      <th>date</th>\n",
       "      <th>funny</th>\n",
       "      <th>review_id</th>\n",
       "      <th>stars</th>\n",
       "      <th>text</th>\n",
       "      <th>type</th>\n",
       "      <th>useful</th>\n",
       "      <th>user_id</th>\n",
       "    </tr>\n",
       "  </thead>\n",
       "  <tbody>\n",
       "    <tr>\n",
       "      <th>0</th>\n",
       "      <td>1Lbq92b6B9z1FYk5mS2R9Q</td>\n",
       "      <td>0</td>\n",
       "      <td>2012-08-01</td>\n",
       "      <td>0</td>\n",
       "      <td>PhwyYy4m4JixeIHLFJgYEg</td>\n",
       "      <td>4</td>\n",
       "      <td>Been here twice to catch a sports game on thei...</td>\n",
       "      <td>review</td>\n",
       "      <td>1</td>\n",
       "      <td>0nqshyLgABOSyTfJUTthjQ</td>\n",
       "    </tr>\n",
       "    <tr>\n",
       "      <th>1</th>\n",
       "      <td>1Lbq92b6B9z1FYk5mS2R9Q</td>\n",
       "      <td>1</td>\n",
       "      <td>2010-11-16</td>\n",
       "      <td>0</td>\n",
       "      <td>gfKsjg4aouCOND-0c2tCqw</td>\n",
       "      <td>4</td>\n",
       "      <td>Here tonight to try dinner. What caught my eye...</td>\n",
       "      <td>review</td>\n",
       "      <td>3</td>\n",
       "      <td>FIk4lQQu1eTe2EpzQ4xhBA</td>\n",
       "    </tr>\n",
       "    <tr>\n",
       "      <th>2</th>\n",
       "      <td>1Lbq92b6B9z1FYk5mS2R9Q</td>\n",
       "      <td>2</td>\n",
       "      <td>2012-05-15</td>\n",
       "      <td>2</td>\n",
       "      <td>pZIQPxbBOyR-waeBh_BA4Q</td>\n",
       "      <td>4</td>\n",
       "      <td>The week of May 14-20, 2012 is National Beer W...</td>\n",
       "      <td>review</td>\n",
       "      <td>3</td>\n",
       "      <td>N3oNEwh0qgPqPP3Em6wJXw</td>\n",
       "    </tr>\n",
       "    <tr>\n",
       "      <th>3</th>\n",
       "      <td>1Lbq92b6B9z1FYk5mS2R9Q</td>\n",
       "      <td>6</td>\n",
       "      <td>2012-11-12</td>\n",
       "      <td>3</td>\n",
       "      <td>mLjXr-_-jz7Zmz_KvgEaEQ</td>\n",
       "      <td>4</td>\n",
       "      <td>On the look out for a new place to try for Sun...</td>\n",
       "      <td>review</td>\n",
       "      <td>6</td>\n",
       "      <td>UYcmGbelzRa0Q6JqzLoguw</td>\n",
       "    </tr>\n",
       "    <tr>\n",
       "      <th>4</th>\n",
       "      <td>1Lbq92b6B9z1FYk5mS2R9Q</td>\n",
       "      <td>5</td>\n",
       "      <td>2011-02-15</td>\n",
       "      <td>2</td>\n",
       "      <td>12JpDvtr4ZYFngGV6Kv-aQ</td>\n",
       "      <td>4</td>\n",
       "      <td>Despite the fact that Vegas has a stupid numbe...</td>\n",
       "      <td>review</td>\n",
       "      <td>4</td>\n",
       "      <td>kmE8w5Y785eZmodsx0V6Ag</td>\n",
       "    </tr>\n",
       "  </tbody>\n",
       "</table>\n",
       "</div>"
      ],
      "text/plain": [
       "              business_id  cool        date  funny               review_id  \\\n",
       "0  1Lbq92b6B9z1FYk5mS2R9Q     0  2012-08-01      0  PhwyYy4m4JixeIHLFJgYEg   \n",
       "1  1Lbq92b6B9z1FYk5mS2R9Q     1  2010-11-16      0  gfKsjg4aouCOND-0c2tCqw   \n",
       "2  1Lbq92b6B9z1FYk5mS2R9Q     2  2012-05-15      2  pZIQPxbBOyR-waeBh_BA4Q   \n",
       "3  1Lbq92b6B9z1FYk5mS2R9Q     6  2012-11-12      3  mLjXr-_-jz7Zmz_KvgEaEQ   \n",
       "4  1Lbq92b6B9z1FYk5mS2R9Q     5  2011-02-15      2  12JpDvtr4ZYFngGV6Kv-aQ   \n",
       "\n",
       "   stars                                               text    type  useful  \\\n",
       "0      4  Been here twice to catch a sports game on thei...  review       1   \n",
       "1      4  Here tonight to try dinner. What caught my eye...  review       3   \n",
       "2      4  The week of May 14-20, 2012 is National Beer W...  review       3   \n",
       "3      4  On the look out for a new place to try for Sun...  review       6   \n",
       "4      4  Despite the fact that Vegas has a stupid numbe...  review       4   \n",
       "\n",
       "                  user_id  \n",
       "0  0nqshyLgABOSyTfJUTthjQ  \n",
       "1  FIk4lQQu1eTe2EpzQ4xhBA  \n",
       "2  N3oNEwh0qgPqPP3Em6wJXw  \n",
       "3  UYcmGbelzRa0Q6JqzLoguw  \n",
       "4  kmE8w5Y785eZmodsx0V6Ag  "
      ]
     },
     "execution_count": 3,
     "metadata": {},
     "output_type": "execute_result"
    }
   ],
   "source": [
    "df_reviews.head()"
   ]
  },
  {
   "cell_type": "code",
   "execution_count": 4,
   "metadata": {
    "collapsed": false
   },
   "outputs": [],
   "source": [
    "business = []\n",
    "\n",
    "with open('../yelp_academic_dataset_business.json', 'rb') as f:\n",
    "    for line in f:\n",
    "        try:\n",
    "            business.append(ast.literal_eval(line.strip()))\n",
    "        except:\n",
    "            continue"
   ]
  },
  {
   "cell_type": "code",
   "execution_count": 5,
   "metadata": {
    "collapsed": true
   },
   "outputs": [],
   "source": [
    "df_business = pd.DataFrame(business)"
   ]
  },
  {
   "cell_type": "code",
   "execution_count": 6,
   "metadata": {
    "collapsed": false
   },
   "outputs": [],
   "source": [
    "# df_business['type'].value_counts()\n",
    "df_business['categories'] = df_business['categories'].apply(lambda x : ' '.join(x).lower())"
   ]
  },
  {
   "cell_type": "code",
   "execution_count": 7,
   "metadata": {
    "collapsed": false
   },
   "outputs": [
    {
     "data": {
      "text/html": [
       "<div>\n",
       "<table border=\"1\" class=\"dataframe\">\n",
       "  <thead>\n",
       "    <tr style=\"text-align: right;\">\n",
       "      <th></th>\n",
       "      <th>address</th>\n",
       "      <th>attributes</th>\n",
       "      <th>business_id</th>\n",
       "      <th>categories</th>\n",
       "      <th>city</th>\n",
       "      <th>hours</th>\n",
       "      <th>is_open</th>\n",
       "      <th>latitude</th>\n",
       "      <th>longitude</th>\n",
       "      <th>name</th>\n",
       "      <th>neighborhood</th>\n",
       "      <th>postal_code</th>\n",
       "      <th>review_count</th>\n",
       "      <th>stars</th>\n",
       "      <th>state</th>\n",
       "      <th>type</th>\n",
       "    </tr>\n",
       "  </thead>\n",
       "  <tbody>\n",
       "    <tr>\n",
       "      <th>0</th>\n",
       "      <td>227 E Baseline Rd, Ste J2</td>\n",
       "      <td>[BikeParking: True, BusinessAcceptsBitcoin: Fa...</td>\n",
       "      <td>0DI8Dt2PJp07XkVvIElIcQ</td>\n",
       "      <td>tobacco shops nightlife vape shops shopping</td>\n",
       "      <td>Tempe</td>\n",
       "      <td>[Monday 11:0-21:0, Tuesday 11:0-21:0, Wednesda...</td>\n",
       "      <td>0</td>\n",
       "      <td>33.378214</td>\n",
       "      <td>-111.936102</td>\n",
       "      <td>Innovative Vapors</td>\n",
       "      <td></td>\n",
       "      <td>85283</td>\n",
       "      <td>17</td>\n",
       "      <td>4.5</td>\n",
       "      <td>AZ</td>\n",
       "      <td>business</td>\n",
       "    </tr>\n",
       "    <tr>\n",
       "      <th>1</th>\n",
       "      <td>495 S Grand Central Pkwy</td>\n",
       "      <td>[BusinessAcceptsBitcoin: False, BusinessAccept...</td>\n",
       "      <td>LTlCaCGZE14GuaUXUGbamg</td>\n",
       "      <td>caterers grocery food event planning &amp; service...</td>\n",
       "      <td>Las Vegas</td>\n",
       "      <td>[Monday 0:0-0:0, Tuesday 0:0-0:0, Wednesday 0:...</td>\n",
       "      <td>1</td>\n",
       "      <td>36.192284</td>\n",
       "      <td>-115.159272</td>\n",
       "      <td>Cut and Taste</td>\n",
       "      <td></td>\n",
       "      <td>89106</td>\n",
       "      <td>9</td>\n",
       "      <td>5.0</td>\n",
       "      <td>NV</td>\n",
       "      <td>business</td>\n",
       "    </tr>\n",
       "    <tr>\n",
       "      <th>2</th>\n",
       "      <td>979 Bloor Street W</td>\n",
       "      <td>[Alcohol: none, Ambience: {'romantic': False, ...</td>\n",
       "      <td>EDqCEAGXVGCH4FJXgqtjqg</td>\n",
       "      <td>restaurants pizza chicken wings italian</td>\n",
       "      <td>Toronto</td>\n",
       "      <td>[Monday 11:0-2:0, Tuesday 11:0-2:0, Wednesday ...</td>\n",
       "      <td>1</td>\n",
       "      <td>43.661054</td>\n",
       "      <td>-79.429089</td>\n",
       "      <td>Pizza Pizza</td>\n",
       "      <td>Dufferin Grove</td>\n",
       "      <td>M6H 1L5</td>\n",
       "      <td>7</td>\n",
       "      <td>2.5</td>\n",
       "      <td>ON</td>\n",
       "      <td>business</td>\n",
       "    </tr>\n",
       "    <tr>\n",
       "      <th>3</th>\n",
       "      <td>7014 Steubenville Pike</td>\n",
       "      <td>[AcceptsInsurance: False, BusinessAcceptsCredi...</td>\n",
       "      <td>cnGIivYRLxpF7tBVR_JwWA</td>\n",
       "      <td>hair removal beauty &amp; spas blow dry\\/out servi...</td>\n",
       "      <td>Oakdale</td>\n",
       "      <td>[Tuesday 10:0-21:0, Wednesday 10:0-21:0, Thurs...</td>\n",
       "      <td>1</td>\n",
       "      <td>40.444544</td>\n",
       "      <td>-80.174540</td>\n",
       "      <td>Plush Salon and Spa</td>\n",
       "      <td></td>\n",
       "      <td>15071</td>\n",
       "      <td>4</td>\n",
       "      <td>4.0</td>\n",
       "      <td>PA</td>\n",
       "      <td>business</td>\n",
       "    </tr>\n",
       "    <tr>\n",
       "      <th>4</th>\n",
       "      <td>30 Gibson Drive, Suite122</td>\n",
       "      <td>[BusinessAcceptsCreditCards: True, ByAppointme...</td>\n",
       "      <td>Q9rsaUiQ-A3NdEAloy0aJA</td>\n",
       "      <td>nail salons beauty &amp; spas</td>\n",
       "      <td>Markham</td>\n",
       "      <td>[Monday 10:30-20:0, Tuesday 10:30-20:0, Thursd...</td>\n",
       "      <td>1</td>\n",
       "      <td>43.827640</td>\n",
       "      <td>-79.342722</td>\n",
       "      <td>A Plus Nail</td>\n",
       "      <td></td>\n",
       "      <td>L3R 2S3</td>\n",
       "      <td>3</td>\n",
       "      <td>2.5</td>\n",
       "      <td>ON</td>\n",
       "      <td>business</td>\n",
       "    </tr>\n",
       "  </tbody>\n",
       "</table>\n",
       "</div>"
      ],
      "text/plain": [
       "                     address  \\\n",
       "0  227 E Baseline Rd, Ste J2   \n",
       "1   495 S Grand Central Pkwy   \n",
       "2         979 Bloor Street W   \n",
       "3     7014 Steubenville Pike   \n",
       "4  30 Gibson Drive, Suite122   \n",
       "\n",
       "                                          attributes             business_id  \\\n",
       "0  [BikeParking: True, BusinessAcceptsBitcoin: Fa...  0DI8Dt2PJp07XkVvIElIcQ   \n",
       "1  [BusinessAcceptsBitcoin: False, BusinessAccept...  LTlCaCGZE14GuaUXUGbamg   \n",
       "2  [Alcohol: none, Ambience: {'romantic': False, ...  EDqCEAGXVGCH4FJXgqtjqg   \n",
       "3  [AcceptsInsurance: False, BusinessAcceptsCredi...  cnGIivYRLxpF7tBVR_JwWA   \n",
       "4  [BusinessAcceptsCreditCards: True, ByAppointme...  Q9rsaUiQ-A3NdEAloy0aJA   \n",
       "\n",
       "                                          categories       city  \\\n",
       "0        tobacco shops nightlife vape shops shopping      Tempe   \n",
       "1  caterers grocery food event planning & service...  Las Vegas   \n",
       "2            restaurants pizza chicken wings italian    Toronto   \n",
       "3  hair removal beauty & spas blow dry\\/out servi...    Oakdale   \n",
       "4                          nail salons beauty & spas    Markham   \n",
       "\n",
       "                                               hours  is_open   latitude  \\\n",
       "0  [Monday 11:0-21:0, Tuesday 11:0-21:0, Wednesda...        0  33.378214   \n",
       "1  [Monday 0:0-0:0, Tuesday 0:0-0:0, Wednesday 0:...        1  36.192284   \n",
       "2  [Monday 11:0-2:0, Tuesday 11:0-2:0, Wednesday ...        1  43.661054   \n",
       "3  [Tuesday 10:0-21:0, Wednesday 10:0-21:0, Thurs...        1  40.444544   \n",
       "4  [Monday 10:30-20:0, Tuesday 10:30-20:0, Thursd...        1  43.827640   \n",
       "\n",
       "    longitude                 name    neighborhood postal_code  review_count  \\\n",
       "0 -111.936102    Innovative Vapors                       85283            17   \n",
       "1 -115.159272        Cut and Taste                       89106             9   \n",
       "2  -79.429089          Pizza Pizza  Dufferin Grove     M6H 1L5             7   \n",
       "3  -80.174540  Plush Salon and Spa                       15071             4   \n",
       "4  -79.342722          A Plus Nail                     L3R 2S3             3   \n",
       "\n",
       "   stars state      type  \n",
       "0    4.5    AZ  business  \n",
       "1    5.0    NV  business  \n",
       "2    2.5    ON  business  \n",
       "3    4.0    PA  business  \n",
       "4    2.5    ON  business  "
      ]
     },
     "execution_count": 7,
     "metadata": {},
     "output_type": "execute_result"
    }
   ],
   "source": [
    "df_business.head()"
   ]
  },
  {
   "cell_type": "code",
   "execution_count": 8,
   "metadata": {
    "collapsed": false
   },
   "outputs": [],
   "source": [
    "restaurants = df_business[df_business['categories'].str.contains(\"restaurants\")]\n",
    "restaurants = restaurants.loc[restaurants['stars'] >= 4]"
   ]
  },
  {
   "cell_type": "code",
   "execution_count": 9,
   "metadata": {
    "collapsed": false
   },
   "outputs": [],
   "source": [
    "# restaurants.to_csv('restaurants.csv')\n",
    "italian = restaurants[restaurants['categories'].str.contains('italian')]\n",
    "chinese = restaurants[restaurants['categories'].str.contains('chinese')]\n",
    "mexican = restaurants[restaurants['categories'].str.contains('mexican')]\n",
    "american = restaurants[restaurants['categories'].str.contains('american')]\n",
    "pizza = restaurants[restaurants['categories'].str.contains('pizza')]\n",
    "# five_stars.dropna(subset=['postal_code'],inplace=True)\n",
    "# postal_codes = five_stars.groupby(['postal_code']).size().reset_index()"
   ]
  },
  {
   "cell_type": "code",
   "execution_count": 10,
   "metadata": {
    "collapsed": true
   },
   "outputs": [],
   "source": [
    "burgers = restaurants[restaurants['categories'].str.contains('burgers')]\n",
    "coffee = restaurants[restaurants['categories'].str.contains('coffee')]"
   ]
  },
  {
   "cell_type": "code",
   "execution_count": 11,
   "metadata": {
    "collapsed": false
   },
   "outputs": [],
   "source": [
    "# from collections import Counter\n",
    "\n",
    "# Counter(' '.join(restaurants['categories']).split()).most_common(100)"
   ]
  },
  {
   "cell_type": "code",
   "execution_count": 13,
   "metadata": {
    "collapsed": false
   },
   "outputs": [
    {
     "name": "stderr",
     "output_type": "stream",
     "text": [
      "/usr/local/lib/python2.7/dist-packages/ipykernel/__main__.py:1: SettingWithCopyWarning: \n",
      "A value is trying to be set on a copy of a slice from a DataFrame.\n",
      "Try using .loc[row_indexer,col_indexer] = value instead\n",
      "\n",
      "See the caveats in the documentation: http://pandas.pydata.org/pandas-docs/stable/indexing.html#indexing-view-versus-copy\n",
      "  if __name__ == '__main__':\n",
      "/usr/local/lib/python2.7/dist-packages/ipykernel/__main__.py:2: SettingWithCopyWarning: \n",
      "A value is trying to be set on a copy of a slice from a DataFrame.\n",
      "Try using .loc[row_indexer,col_indexer] = value instead\n",
      "\n",
      "See the caveats in the documentation: http://pandas.pydata.org/pandas-docs/stable/indexing.html#indexing-view-versus-copy\n",
      "  from ipykernel import kernelapp as app\n",
      "/usr/local/lib/python2.7/dist-packages/ipykernel/__main__.py:3: SettingWithCopyWarning: \n",
      "A value is trying to be set on a copy of a slice from a DataFrame.\n",
      "Try using .loc[row_indexer,col_indexer] = value instead\n",
      "\n",
      "See the caveats in the documentation: http://pandas.pydata.org/pandas-docs/stable/indexing.html#indexing-view-versus-copy\n",
      "  app.launch_new_instance()\n"
     ]
    }
   ],
   "source": [
    "burgers['marker'] = 'Burger'\n",
    "pizza['marker'] = 'Pizza'\n",
    "coffee['marker'] = 'Coffee'"
   ]
  },
  {
   "cell_type": "code",
   "execution_count": 15,
   "metadata": {
    "collapsed": false
   },
   "outputs": [],
   "source": [
    "markers = burgers.append(pizza, ignore_index=True)\n",
    "markers = markers.append(coffee, ignore_index=True)"
   ]
  },
  {
   "cell_type": "code",
   "execution_count": 16,
   "metadata": {
    "collapsed": true
   },
   "outputs": [],
   "source": [
    "markers.to_csv('markers.csv')"
   ]
  },
  {
   "cell_type": "code",
   "execution_count": 10,
   "metadata": {
    "collapsed": false
   },
   "outputs": [
    {
     "data": {
      "text/plain": [
       "535"
      ]
     },
     "execution_count": 10,
     "metadata": {},
     "output_type": "execute_result"
    }
   ],
   "source": [
    "len(pizza.loc[pizza['review_count'] > 50])"
   ]
  },
  {
   "cell_type": "code",
   "execution_count": null,
   "metadata": {
    "collapsed": true
   },
   "outputs": [],
   "source": [
    "df_business['categories'].str.contains(\"restaurants\")"
   ]
  },
  {
   "cell_type": "code",
   "execution_count": 111,
   "metadata": {
    "collapsed": true
   },
   "outputs": [],
   "source": [
    "pizza_reviews = pd.merge(df_reviews, pizza, on='business_id', how='inner')"
   ]
  },
  {
   "cell_type": "code",
   "execution_count": 32,
   "metadata": {
    "collapsed": false
   },
   "outputs": [
    {
     "data": {
      "text/plain": [
       "59911"
      ]
     },
     "execution_count": 32,
     "metadata": {},
     "output_type": "execute_result"
    }
   ],
   "source": [
    "len(df)"
   ]
  },
  {
   "cell_type": "code",
   "execution_count": 47,
   "metadata": {
    "collapsed": false
   },
   "outputs": [],
   "source": [
    "counts = df.groupby(['user_id', 'business_id', 'latitude', 'longitude']).size().reset_index()"
   ]
  },
  {
   "cell_type": "code",
   "execution_count": 48,
   "metadata": {
    "collapsed": false
   },
   "outputs": [],
   "source": [
    "counts = pd.DataFrame(counts)"
   ]
  },
  {
   "cell_type": "code",
   "execution_count": 51,
   "metadata": {
    "collapsed": false
   },
   "outputs": [
    {
     "data": {
      "text/plain": [
       "PKEzKWv_FktMm2mGPjwd0Q    1172\n",
       "DK57YibC5ShBmqQl97CKog    1071\n",
       "QJI9OSEn6ujRCtrX06vs1w     940\n",
       "UYcmGbelzRa0Q6JqzLoguw     914\n",
       "cMEtAiW60I5wE_vLfTxoJQ     911\n",
       "ELcQDlf69kb-ihJfxZyL0A     900\n",
       "U4INQZOPSUaj8hMjLlZ3KA     896\n",
       "n86B7IkbU20AkxlFX_5aew     776\n",
       "N3oNEwh0qgPqPP3Em6wJXw     769\n",
       "dIIKEfOgo0KqUfGQvGikPg     750\n",
       "iDlkZO2iILS8Jwfdy7DP9A     710\n",
       "hWDybu_KvYLSdEFzGrniTw     648\n",
       "3nDUQBjKyVor5wV0reJChg     645\n",
       "YMgZqBUAddmFErxLtCfK_w     641\n",
       "0BBUmH7Krcax1RZgbH4fSA     633\n",
       "rCWrxuRC8_pfagpchtHp6A     627\n",
       "RBZ_kMjowV0t6_nv2UKaDQ     626\n",
       "PeLGa5vUR8_mcsn-fn42Jg     612\n",
       "qewG3X2O4X6JKskxyyqFwQ     610\n",
       "Xxvz5g67eaCr3emnkY5M6w     603\n",
       "Ry1O_KXZHGRI8g5zBR3IcQ     601\n",
       "dt9IHwfuZs9D9LOH7gjNew     598\n",
       "WeVkkF5L39888IPPlRhNpg     592\n",
       "C2C0GPKvzWWnP57Os9eQ0w     583\n",
       "4wp4XI9AxKNqJima-xahlg     582\n",
       "tH0uKD-vNwMoEc3Xk3Cbdg     577\n",
       "Wc5L6iuvSNF5WGBlqIO8nw     569\n",
       "Q9mA60HnY87C1TW5kjAZ6Q     563\n",
       "HJj82f-csBI7jjgenwqhvw     536\n",
       "SlgpAnj2gQd44EM_Uq6DkQ     531\n",
       "                          ... \n",
       "P3B7FfBpXERa-KdxwIGkHA     181\n",
       "VlcasgkqiTuPi-nVT7rEtw     176\n",
       "0o8HUzggoNKay9-ZMj3HqQ     176\n",
       "ksYpOznbD-22wYpTiacHwA     175\n",
       "A2N4y0VeZ-3TtmBVCSVVnQ     174\n",
       "V7B4KTBitlBs9YH_B00-9Q     173\n",
       "q5afJ8gTV5TPEOkzyeJ_WQ     171\n",
       "mIysRk_cJ5K_BMZ-r06TFw     171\n",
       "VkUfz-QuNF9qeGXUhaNpTA     168\n",
       "u90s9wJ9pMK2FMpy5F8Wpg     167\n",
       "4d13xAX2jp2EbGF8I9eZZw     166\n",
       "rPJZ0Bh1Dj-Rw6Yu3iQwVQ     163\n",
       "ReDypdRmVA3wc-QG8HBKkQ     161\n",
       "tM84r9rP7XTjX4SnRzviMA     159\n",
       "D43OWyfzIQjL8feJpYh2SQ     159\n",
       "Ij7OcAO5FpoNKxS1RzNoWw     158\n",
       "LG-FOXQL0zUcRQuqkhq-Zg     157\n",
       "GRQeDtlWc1LLbwMuxFESKw     155\n",
       "tWVlSt-66fl6bk9_5UzltQ     153\n",
       "ZuWAof5l6yKeft-F1QCWSQ     144\n",
       "Cfwvos6oFlDquGiI2Qy1gQ     141\n",
       "HHrDK8PKL3div1uBYym6LQ     140\n",
       "7nA9P6EukhTwZi67JB-UTg     136\n",
       "7M1zIE6OzpySDlqLU6MnEg     132\n",
       "FqNJxZ3zkcF-o-QUXz4yeg     131\n",
       "OmBHPdD3UhTeO3UHq6kBjA     126\n",
       "jX7n6KfNZ22kBh6AHhxRbA     123\n",
       "8JwSmvviX2dEAgaPRZ70nQ     116\n",
       "uNxXIIFzjHm5r62UTyVjrQ     115\n",
       "JHa6QhwsnQ3tBfoHwz9pJg     113\n",
       "Name: user_id, dtype: int64"
      ]
     },
     "execution_count": 51,
     "metadata": {},
     "output_type": "execute_result"
    }
   ],
   "source": [
    "counts['user_id'].value_counts()"
   ]
  },
  {
   "cell_type": "code",
   "execution_count": null,
   "metadata": {
    "collapsed": true
   },
   "outputs": [],
   "source": []
  }
 ],
 "metadata": {
  "kernelspec": {
   "display_name": "Python 2",
   "language": "python",
   "name": "python2"
  },
  "language_info": {
   "codemirror_mode": {
    "name": "ipython",
    "version": 2
   },
   "file_extension": ".py",
   "mimetype": "text/x-python",
   "name": "python",
   "nbconvert_exporter": "python",
   "pygments_lexer": "ipython2",
   "version": "2.7.13"
  }
 },
 "nbformat": 4,
 "nbformat_minor": 2
}
